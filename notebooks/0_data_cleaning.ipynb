{
 "cells": [
  {
   "cell_type": "code",
   "execution_count": null,
   "id": "41db65b6",
   "metadata": {},
   "outputs": [],
   "source": [
    "import sys\n",
    "import os\n",
    "sys.path.append(os.path.join(os.getcwd(), '..'))\n",
    "\n",
    "import pandas as pd\n",
    "import numpy as np\n",
    "from src.chemoinformatics.cleaning import SmilesCleaner\n",
    "\n",
    "from tdc.single_pred import Tox"
   ]
  },
  {
   "cell_type": "code",
   "execution_count": 2,
   "id": "b2ff9981",
   "metadata": {},
   "outputs": [
    {
     "name": "stderr",
     "output_type": "stream",
     "text": [
      "Found local copy...\n",
      "Loading...\n",
      "Done!\n"
     ]
    }
   ],
   "source": [
    "# Load all datasets\n",
    "df_ppary = pd.read_csv('../Data/CHEMBL3979_EC50.csv')\n",
    "df_chembl = pd.read_csv('../Data/ChEMBL_33.csv')\n",
    "df_tox = Tox(name = 'DILI').get_data()"
   ]
  },
  {
   "cell_type": "code",
   "execution_count": 3,
   "id": "6e4dfceb",
   "metadata": {},
   "outputs": [
    {
     "name": "stderr",
     "output_type": "stream",
     "text": [
      "100%|██████████| 1125/1125 [00:00<00:00, 1147.99it/s]\n",
      "100%|██████████| 475/475 [00:00<00:00, 1516.40it/s]"
     ]
    },
    {
     "name": "stdout",
     "output_type": "stream",
     "text": [
      "All SMILES strings are valid.\n"
     ]
    },
    {
     "name": "stderr",
     "output_type": "stream",
     "text": [
      "\n"
     ]
    }
   ],
   "source": [
    "# Making sure all of our molecules pass the cleaning criteria\n",
    "Cleaner = SmilesCleaner()\n",
    "Cleaner.clean_smiles_bulk(df_ppary.smiles, verbose=True)\n",
    "Cleaner.clean_smiles_bulk(df_tox.Drug, verbose=True)\n",
    "\n",
    "if Cleaner.reasons == {}:\n",
    "    print(\"All SMILES strings are valid.\")\n",
    "else:\n",
    "    print(\"Some SMILES strings are invalid:\")\n",
    "    for smi, reason in Cleaner.reasons.items():\n",
    "        print(f\"{smi}: {reason}\")\n"
   ]
  },
  {
   "cell_type": "code",
   "execution_count": 4,
   "id": "e9165892",
   "metadata": {},
   "outputs": [
    {
     "name": "stderr",
     "output_type": "stream",
     "text": [
      "100%|██████████| 1952050/1952050 [26:47<00:00, 1214.68it/s]\n"
     ]
    },
    {
     "name": "stdout",
     "output_type": "stream",
     "text": [
      "Number of valid SMILES: 1952050 out of 1952050\n"
     ]
    }
   ],
   "source": [
    "# Clean all SMILES in ChEMBL dataset. This might take a while. (~25 mins on my M2 MBP)\n",
    "clean_smiles = Cleaner.clean_smiles_bulk(df_chembl.smiles, verbose=True)\n",
    "\n",
    "print(f\"Number of valid SMILES: {len(clean_smiles)} out of {len(df_chembl.smiles)}\")\n",
    "\n",
    "# Save cleaned SMILES to new CSV\n",
    "pd.DataFrame({'smiles': clean_smiles}).to_csv('../Data/Cleaned_ChEMBL_33.csv', index=False)\n"
   ]
  }
 ],
 "metadata": {
  "kernelspec": {
   "display_name": "detox",
   "language": "python",
   "name": "python3"
  },
  "language_info": {
   "codemirror_mode": {
    "name": "ipython",
    "version": 3
   },
   "file_extension": ".py",
   "mimetype": "text/x-python",
   "name": "python",
   "nbconvert_exporter": "python",
   "pygments_lexer": "ipython3",
   "version": "3.12.11"
  }
 },
 "nbformat": 4,
 "nbformat_minor": 5
}
